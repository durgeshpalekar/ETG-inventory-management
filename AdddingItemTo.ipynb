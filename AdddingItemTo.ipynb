{
  "nbformat": 4,
  "nbformat_minor": 0,
  "metadata": {
    "colab": {
      "name": "AdddingItemTo.ipynb",
      "provenance": [],
      "collapsed_sections": []
    },
    "kernelspec": {
      "name": "python3",
      "display_name": "Python 3"
    },
    "language_info": {
      "name": "python"
    }
  },
  "cells": [
    {
      "cell_type": "code",
      "metadata": {
        "id": "VkIo0GdTSFYZ"
      },
      "source": [
        "result = {1001 : {\"name\" : \"Santoor\",\"category\" : \"soap\",\"price\" : 30, \"expdate\" : \"March/22\" ,\"quantity\" : 30 }}\n"
      ],
      "execution_count": null,
      "outputs": []
    },
    {
      "cell_type": "code",
      "metadata": {
        "colab": {
          "base_uri": "https://localhost:8080/"
        },
        "id": "iagl4i3xSlsW",
        "outputId": "fb50930a-4f8c-44af-f33e-c01480054335"
      },
      "source": [
        "\n",
        "\n",
        "Id = str(input(\"PLEASE ENTER PRODUCT ID : \\n\"))\n",
        "Name = str(input(\"PLEASE ENTER PRODUCT NAME : \\n\"))\n",
        "Category = str(input(\"PLEASE ENTER CATEGORY OF PRODUCT : \\n\"))\n",
        "Price = int(input(\"PLEASE ENTER PRICE OF PRODUCT  : \\n\"))\n",
        "ExpDate = str(input(\"PLEASE ENTER EXPDATE  : \\n\"))\n",
        "Quantity = int(input(\"PLEASE ENTER QUANTITY OF PRODUCT  : \\n\"))\n",
        "\n",
        "#result[Id] = {\"name\" : Name ,\"category\" : Category ,\"price\" :Price, \"expdate\" : ExpDate ,\"quantity\" : Quantity }\n",
        "if Id in result:\n",
        "    result[Id] = {\"name\" : Name ,\"category\" : Category ,\"price\" :Price, \"expdate\" : ExpDate , \"quantity\" : (result[Id][\"quantity\"]) + Quantity }\n",
        "else:\n",
        "    result[Id] = {\"name\" : Name ,\"category\" : Category ,\"price\" :Price, \"expdate\" : ExpDate ,\"quantity\" : Quantity }\n",
        "\n",
        "\n",
        "import json\n",
        "\n",
        "jsd = json.dumps(result)\n",
        "fd = open(\"result2.json\",'w')\n",
        "fd.write(jsd)\n",
        "\n",
        "\n",
        "\n",
        "fd.close()"
      ],
      "execution_count": null,
      "outputs": [
        {
          "name": "stdout",
          "output_type": "stream",
          "text": [
            "PLEASE ENTER PRODUCT ID : \n",
            "1030\n",
            "PLEASE ENTER PRODUCT NAME : \n",
            "prada\n",
            "PLEASE ENTER CATEGORY OF PRODUCT : \n",
            "clothing\n",
            "PLEASE ENTER PRICE OF PRODUCT  : \n",
            "1000\n",
            "PLEASE ENTER EXPDATE  : \n",
            "3/25\n",
            "PLEASE ENTER QUANTITY OF PRODUCT  : \n",
            "100\n"
          ]
        }
      ]
    }
  ]
}